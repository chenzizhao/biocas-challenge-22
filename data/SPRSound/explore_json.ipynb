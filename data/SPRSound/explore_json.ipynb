{
 "cells": [
  {
   "cell_type": "code",
   "execution_count": 12,
   "metadata": {},
   "outputs": [],
   "source": [
    "%matplotlib inline\n",
    "import pandas as pd\n",
    "import matplotlib.pyplot as plt\n",
    "import seaborn as sns\n",
    "import numpy as np\n",
    "# sns.set(rc={\"figure.dpi\":300, 'savefig.dpi':300})\n",
    "# sns.set_context('notebook')\n",
    "sns.set_theme(style=\"ticks\", color_codes=True)"
   ]
  },
  {
   "cell_type": "code",
   "execution_count": 2,
   "metadata": {},
   "outputs": [],
   "source": [
    "df1 = pd.read_csv('task1.csv')"
   ]
  },
  {
   "cell_type": "code",
   "execution_count": 3,
   "metadata": {},
   "outputs": [
    {
     "data": {
      "text/plain": [
       "Unnamed: 0                               0\n",
       "wav_name      64783073_1.3_0_p3_3273_0.wav\n",
       "patient_id                        64783073\n",
       "age                                    1.3\n",
       "gender                                   0\n",
       "loc                                      3\n",
       "rec_id                                3273\n",
       "event_id                                 0\n",
       "label_11                      Adventitious\n",
       "label_12                    Coarse Crackle\n",
       "Name: 0, dtype: object"
      ]
     },
     "execution_count": 3,
     "metadata": {},
     "output_type": "execute_result"
    }
   ],
   "source": [
    "df1.iloc[0]"
   ]
  },
  {
   "cell_type": "code",
   "execution_count": 4,
   "metadata": {},
   "outputs": [
    {
     "data": {
      "text/html": [
       "<div>\n",
       "<style scoped>\n",
       "    .dataframe tbody tr th:only-of-type {\n",
       "        vertical-align: middle;\n",
       "    }\n",
       "\n",
       "    .dataframe tbody tr th {\n",
       "        vertical-align: top;\n",
       "    }\n",
       "\n",
       "    .dataframe thead th {\n",
       "        text-align: right;\n",
       "    }\n",
       "</style>\n",
       "<table border=\"1\" class=\"dataframe\">\n",
       "  <thead>\n",
       "    <tr style=\"text-align: right;\">\n",
       "      <th></th>\n",
       "      <th>Unnamed: 0</th>\n",
       "      <th>wav_name</th>\n",
       "      <th>patient_id</th>\n",
       "      <th>age</th>\n",
       "      <th>gender</th>\n",
       "      <th>loc</th>\n",
       "      <th>rec_id</th>\n",
       "      <th>event_id</th>\n",
       "      <th>label_11</th>\n",
       "      <th>label_12</th>\n",
       "    </tr>\n",
       "  </thead>\n",
       "  <tbody>\n",
       "    <tr>\n",
       "      <th>0</th>\n",
       "      <td>0</td>\n",
       "      <td>64783073_1.3_0_p3_3273_0.wav</td>\n",
       "      <td>64783073</td>\n",
       "      <td>1.3</td>\n",
       "      <td>0</td>\n",
       "      <td>3</td>\n",
       "      <td>3273</td>\n",
       "      <td>0</td>\n",
       "      <td>Adventitious</td>\n",
       "      <td>Coarse Crackle</td>\n",
       "    </tr>\n",
       "    <tr>\n",
       "      <th>7</th>\n",
       "      <td>7</td>\n",
       "      <td>65091224_2.9_0_p3_3336_0.wav</td>\n",
       "      <td>65091224</td>\n",
       "      <td>2.9</td>\n",
       "      <td>0</td>\n",
       "      <td>3</td>\n",
       "      <td>3336</td>\n",
       "      <td>0</td>\n",
       "      <td>Adventitious</td>\n",
       "      <td>Wheeze</td>\n",
       "    </tr>\n",
       "    <tr>\n",
       "      <th>8</th>\n",
       "      <td>8</td>\n",
       "      <td>65091224_2.9_0_p3_3336_1.wav</td>\n",
       "      <td>65091224</td>\n",
       "      <td>2.9</td>\n",
       "      <td>0</td>\n",
       "      <td>3</td>\n",
       "      <td>3336</td>\n",
       "      <td>1</td>\n",
       "      <td>Adventitious</td>\n",
       "      <td>Wheeze</td>\n",
       "    </tr>\n",
       "    <tr>\n",
       "      <th>10</th>\n",
       "      <td>10</td>\n",
       "      <td>65091224_2.9_0_p3_3336_3.wav</td>\n",
       "      <td>65091224</td>\n",
       "      <td>2.9</td>\n",
       "      <td>0</td>\n",
       "      <td>3</td>\n",
       "      <td>3336</td>\n",
       "      <td>3</td>\n",
       "      <td>Adventitious</td>\n",
       "      <td>Stridor</td>\n",
       "    </tr>\n",
       "    <tr>\n",
       "      <th>11</th>\n",
       "      <td>11</td>\n",
       "      <td>65091224_2.9_0_p3_3336_4.wav</td>\n",
       "      <td>65091224</td>\n",
       "      <td>2.9</td>\n",
       "      <td>0</td>\n",
       "      <td>3</td>\n",
       "      <td>3336</td>\n",
       "      <td>4</td>\n",
       "      <td>Adventitious</td>\n",
       "      <td>Wheeze</td>\n",
       "    </tr>\n",
       "  </tbody>\n",
       "</table>\n",
       "</div>"
      ],
      "text/plain": [
       "    Unnamed: 0                      wav_name  patient_id  age  gender  loc  \\\n",
       "0            0  64783073_1.3_0_p3_3273_0.wav    64783073  1.3       0    3   \n",
       "7            7  65091224_2.9_0_p3_3336_0.wav    65091224  2.9       0    3   \n",
       "8            8  65091224_2.9_0_p3_3336_1.wav    65091224  2.9       0    3   \n",
       "10          10  65091224_2.9_0_p3_3336_3.wav    65091224  2.9       0    3   \n",
       "11          11  65091224_2.9_0_p3_3336_4.wav    65091224  2.9       0    3   \n",
       "\n",
       "    rec_id  event_id      label_11        label_12  \n",
       "0     3273         0  Adventitious  Coarse Crackle  \n",
       "7     3336         0  Adventitious          Wheeze  \n",
       "8     3336         1  Adventitious          Wheeze  \n",
       "10    3336         3  Adventitious         Stridor  \n",
       "11    3336         4  Adventitious          Wheeze  "
      ]
     },
     "execution_count": 4,
     "metadata": {},
     "output_type": "execute_result"
    }
   ],
   "source": [
    "df1.loc[df1['label_11'] != 'Normal'].head()"
   ]
  },
  {
   "cell_type": "code",
   "execution_count": 25,
   "metadata": {},
   "outputs": [
    {
     "data": {
      "text/plain": [
       "Normal          0.076960\n",
       "DAS             0.176406\n",
       "Poor Quality    0.208810\n",
       "CAS             0.239986\n",
       "CAS & DAS       0.297837\n",
       "Name: label_22, dtype: float64"
      ]
     },
     "execution_count": 25,
     "metadata": {},
     "output_type": "execute_result"
    }
   ],
   "source": [
    "df = pd.read_csv('task2.csv')\n",
    "summary = df['label_22'].value_counts()\n",
    "weights = 1/ np.sqrt(summary)\n",
    "weights = weights / np.sum(weights)\n",
    "weights"
   ]
  },
  {
   "cell_type": "markdown",
   "metadata": {},
   "source": [
    "### Freq characteristics of each type\n",
    "\n",
    "TODO\n",
    "\n",
    "### Recording length of each type\n",
    "\n",
    "TODO"
   ]
  },
  {
   "cell_type": "code",
   "execution_count": null,
   "metadata": {},
   "outputs": [],
   "source": []
  }
 ],
 "metadata": {
  "interpreter": {
   "hash": "5eceda403532806a00086ab3ca79177a9de2f84b8263c0a40b3dd2adddebfcfb"
  },
  "kernelspec": {
   "display_name": "Python 3.9.12 ('biocas')",
   "language": "python",
   "name": "python3"
  },
  "language_info": {
   "codemirror_mode": {
    "name": "ipython",
    "version": 3
   },
   "file_extension": ".py",
   "mimetype": "text/x-python",
   "name": "python",
   "nbconvert_exporter": "python",
   "pygments_lexer": "ipython3",
   "version": "3.9.12"
  },
  "orig_nbformat": 4
 },
 "nbformat": 4,
 "nbformat_minor": 2
}
